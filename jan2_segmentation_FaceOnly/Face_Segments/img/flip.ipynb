{
 "cells": [
  {
   "cell_type": "code",
   "execution_count": 16,
   "metadata": {},
   "outputs": [
    {
     "name": "stdout",
     "output_type": "stream",
     "text": [
      "tf.Tensor(\n",
      "[[[1 2 3]\n",
      "  [4 5 6]\n",
      "  [7 8 9]]], shape=(1, 3, 3), dtype=int32)\n",
      "tf.Tensor(\n",
      "[[[1 2 3]\n",
      "  [4 5 6]\n",
      "  [7 8 9]]], shape=(1, 3, 3), dtype=int32)\n",
      "flip horizontal (<tf.Tensor: shape=(1, 3, 3), dtype=int32, numpy=\n",
      "array([[[7, 8, 9],\n",
      "        [4, 5, 6],\n",
      "        [1, 2, 3]]], dtype=int32)>, <tf.Tensor: shape=(1, 3, 3), dtype=int32, numpy=\n",
      "array([[[7, 8, 9],\n",
      "        [4, 5, 6],\n",
      "        [1, 2, 3]]], dtype=int32)>)\n",
      "(<tf.Tensor: shape=(1, 3, 3), dtype=int32, numpy=\n",
      "array([[[1, 2, 3],\n",
      "        [4, 5, 6],\n",
      "        [7, 8, 9]]], dtype=int32)>, <tf.Tensor: shape=(1, 3, 3), dtype=int32, numpy=\n",
      "array([[[1, 2, 3],\n",
      "        [4, 5, 6],\n",
      "        [7, 8, 9]]], dtype=int32)>)\n"
     ]
    }
   ],
   "source": [
    "import tensorflow as tf\n",
    "import numpy as np\n",
    "import matplotlib.pyplot as plt\n",
    "import os\n",
    "import cv2\n",
    "\n",
    "def flip_hori(img, mask):\n",
    "    img = tf.image.flip_left_right(img)\n",
    "    mask = tf.image.flip_left_right(mask)\n",
    "    return img, mask\n",
    "\n",
    "def flip_vert(img, mask):\n",
    "    img = tf.image.flip_up_down(img)\n",
    "    mask = tf.image.flip_up_down(mask)\n",
    "    return img, mask\n",
    "\n",
    "t1 = tf.constant([[[1, 2, 3], [4, 5, 6], [7, 8, 9]]])\n",
    "t2 = tf.constant([[[1, 2, 3], [4, 5, 6], [7, 8, 9]]])\n",
    "print(t1)\n",
    "print(t2)\n",
    "print(\"flip horizontal\" , flip_hori(t1, t2))\n",
    "print(flip_vert(t1, t2))"
   ]
  },
  {
   "cell_type": "code",
   "execution_count": null,
   "metadata": {},
   "outputs": [],
   "source": []
  }
 ],
 "metadata": {
  "kernelspec": {
   "display_name": "tf",
   "language": "python",
   "name": "python3"
  },
  "language_info": {
   "codemirror_mode": {
    "name": "ipython",
    "version": 3
   },
   "file_extension": ".py",
   "mimetype": "text/x-python",
   "name": "python",
   "nbconvert_exporter": "python",
   "pygments_lexer": "ipython3",
   "version": "3.8.15"
  },
  "orig_nbformat": 4,
  "vscode": {
   "interpreter": {
    "hash": "6797f67d482f21358db9bdc061fe95b36dd3bed335051e29e5b59fd6d3aab3a3"
   }
  }
 },
 "nbformat": 4,
 "nbformat_minor": 2
}
